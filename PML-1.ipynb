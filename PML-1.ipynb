{
 "cells": [
  {
   "cell_type": "code",
   "execution_count": 1,
   "metadata": {},
   "outputs": [],
   "source": [
    "import numpy as np\n",
    "import matplotlib.pyplot as plt\n",
    "import pandas as pd"
   ]
  },
  {
   "cell_type": "code",
   "execution_count": 2,
   "metadata": {},
   "outputs": [],
   "source": [
    "f = 857e12     # Frequency of wave\n",
    "opnmax = 10    # Maximum optical density\n",
    "eps0 = 8.854187812813e-12   # Permittivity of free space\n",
    "mu0 = 1.2566370621219e-6    # Permeability of free space\n",
    "c0 = round(1/np.sqrt(mu0*eps0))   # Speed of light in free space\n",
    "imax = 400     # Number of cells in x-direction\n",
    "jmax = 400     # Number of cells in y-direction\n",
    "deltax = c0/(20*f*opnmax)   # Cell width in x-direction\n",
    "deltay = c0/(20*f*opnmax)   # Cell width in y-direction\n",
    "Lxmax = 20*deltax    # Width of PML\n",
    "Lymax = 20*deltay\n",
    "alpha = 1.5   # Exponent of PML (strength)"
   ]
  },
  {
   "cell_type": "code",
   "execution_count": 3,
   "metadata": {},
   "outputs": [],
   "source": [
    "# Sigma calculations for outer PML    sigma_i = 0.25*(L_i/Lmax)**alpha\n",
    "Lx = np.linspace(0,Lxmax,int(Lxmax/deltax))\n",
    "Ly = np.linspace(0,Lymax,int(Lymax/deltay))\n",
    "sxBx = np.zeros((imax,jmax))\n",
    "syBx = np.zeros((imax,jmax))\n",
    "sxBy = np.zeros((imax,jmax))\n",
    "syBy = np.zeros((imax,jmax))\n",
    "sxDz = np.zeros((imax,jmax))\n",
    "syDz = np.zeros((imax,jmax))\n",
    "\n",
    "for j in range(jmax):\n",
    "    sxBx[:len(Lx),j] = (np.flip(Ly+0.5*deltay)/Lymax)**alpha/4\n",
    "    sxBx[len(syBx)-len(Lx):,j] = ((Ly+0.5*deltay)/Lymax)**alpha/4\n",
    "    syBx[:,:len(Lx)] = (np.flip(Lx)/Lxmax)**alpha/4\n",
    "    syBx[:,len(sxBx)-len(Lx):] = (Lx/Lxmax)**alpha/4\n",
    "        \n",
    "    sxBy[:len(Lx),j] = (np.flip(Ly)/Lymax)**alpha/4\n",
    "    sxBy[len(syBy)-len(Lx):,j] = (Ly/Lymax)**alpha/4\n",
    "    syBy[:,:len(Lx)] = (np.flip(Lx+0.5*deltax)/Lxmax)**alpha/4\n",
    "    syBy[:,len(sxBy)-len(Lx):] = ((Lx+0.5*deltax)/Lxmax)**alpha/4\n",
    "    \n",
    "    sxDz[:len(Lx),j] = (np.flip(Ly)/Lymax)**alpha/4\n",
    "    sxDz[len(syDz)-len(Lx):,j] = (Ly/Lymax)**alpha/4\n",
    "    syDz[:,:len(Lx)] = (np.flip(Lx)/Lxmax)**alpha/4\n",
    "    syDz[:,len(sxDz)-len(Lx):] = (Lx/Lxmax)**alpha/4\n",
    "    "
   ]
  },
  {
   "cell_type": "code",
   "execution_count": 4,
   "metadata": {},
   "outputs": [
    {
     "data": {
      "image/png": "[encoded data removed]",
      "text/plain": [
       "<Figure size 432x288 with 1 Axes>"
      ]
     },
     "metadata": {
      "needs_background": "light"
     },
     "output_type": "display_data"
    }
   ],
   "source": [
    "#Plot to check outer PML has been created\n",
    "plt.rcParams[\"figure.figsize\"] = 15, 6\n",
    "fig, ax = plt.subplots(1,1)\n",
    "Sigmas = np.column_stack((sxBx,sxBy,sxDz,syBx,syBy,syDz))\n",
    "im = ax.imshow(Sigmas, interpolation='none', aspect=1, origin='lower')"
   ]
  },
  {
   "cell_type": "code",
   "execution_count": 5,
   "metadata": {},
   "outputs": [],
   "source": [
    "#Creating PML for centre region\n",
    "sigma = np.zeros((imax,jmax))\n",
    "radius = 40    # Radius of inner PML - Set to Schwarzschild radius\n",
    "for i in range(imax):   # Loop over all points\n",
    "    for j in range(jmax):\n",
    "        r = np.sqrt((imax/2-i)**2+(jmax/2-j)**2)  # Find distance of point from centre\n",
    "        if r<=radius:  # Checks if point is within Schwarzschild radius\n",
    "            sigma[i,j] = (1/4)*(1-(r/radius))**alpha    #sigma_i = 0.25*(L_i/Lmax)**alpha"
   ]
  },
  {
   "cell_type": "code",
   "execution_count": 6,
   "metadata": {},
   "outputs": [],
   "source": [
    "# Adds inner PML to existing outer PML\n",
    "sxBx += sigma\n",
    "syBx += sigma\n",
    "sxBy += sigma\n",
    "syBy += sigma\n",
    "sxDz += sigma\n",
    "syDz += sigma"
   ]
  },
  {
   "cell_type": "code",
   "execution_count": 7,
   "metadata": {},
   "outputs": [
    {
     "data": {
      "image/png": "[encoded data removed]",
      "text/plain": [
       "<Figure size 1080x432 with 1 Axes>"
      ]
     },
     "metadata": {
      "needs_background": "light"
     },
     "output_type": "display_data"
    }
   ],
   "source": [
    "# Plot to check PML looks correct\n",
    "plt.rcParams[\"figure.figsize\"] = 15, 6\n",
    "fig, ax = plt.subplots(1,1)\n",
    "Sigmas = np.column_stack((sxBx,sxBy,sxDz,syBx,syBy,syDz))\n",
    "im = ax.imshow(Sigmas, interpolation='none', aspect=1, origin='lower')"
   ]
  },
  {
   "cell_type": "code",
   "execution_count": 8,
   "metadata": {},
   "outputs": [],
   "source": [
    "PML = np.concatenate((sxBx,sxBy,syBx,syBy,sxDz,syDz))  # Merge into 1 array\n",
    "df = pd.DataFrame(PML)\n",
    "df.to_csv('PML400_40.csv')  # Save as csv"
   ]
  },
  {
   "cell_type": "code",
   "execution_count": null,
   "metadata": {},
   "outputs": [],
   "source": []
  }
 ],
 "metadata": {
  "kernelspec": {
   "display_name": "Python 3",
   "language": "python",
   "name": "python3"
  },
  "language_info": {
   "codemirror_mode": {
    "name": "ipython",
    "version": 3
   },
   "file_extension": ".py",
   "mimetype": "text/x-python",
   "name": "python",
   "nbconvert_exporter": "python",
   "pygments_lexer": "ipython3",
   "version": "3.7.6"
  }
 },
 "nbformat": 4,
 "nbformat_minor": 4
}
